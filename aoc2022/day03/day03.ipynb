{
 "cells": [
  {
   "cell_type": "code",
   "execution_count": 53,
   "metadata": {},
   "outputs": [
    {
     "name": "stdout",
     "output_type": "stream",
     "text": [
      "7674\n"
     ]
    }
   ],
   "source": [
    "def score_match(box1, box2):\n",
    "    box1 = set(box1)\n",
    "    box2 = set(box2)\n",
    "    match = box1.intersection(box2).pop()\n",
    "    score = 'abcdefghijklmnopqrstuvwxyzABCDEFGHIJKLMNOPQRSTUVWXYZ'.index(match) + 1\n",
    "    return score\n",
    "\n",
    "with open('data.txt', 'r') as f:\n",
    "    match_score = 0\n",
    "    for line in f.readlines():\n",
    "        line = line.strip()  # \\n\n",
    "        mid = int(len(line)/2)\n",
    "        box1 = line[:mid]\n",
    "        box2 = line[mid:]\n",
    "        match_score += score_match(box1, box2)\n",
    "\n",
    "# part one\n",
    "print(match_score)"
   ]
  },
  {
   "cell_type": "code",
   "execution_count": 70,
   "metadata": {},
   "outputs": [
    {
     "name": "stdout",
     "output_type": "stream",
     "text": [
      "2805\n"
     ]
    }
   ],
   "source": [
    "with open('data.txt', 'r') as f:\n",
    "    match_score = 0\n",
    "    buffer = set()\n",
    "\n",
    "    for i, line in enumerate(f.readlines(), start=1):\n",
    "        items = set(line.strip())\n",
    "        if i % 3 == 0:\n",
    "            match = buffer.intersection(items).pop()\n",
    "            score = 'abcdefghijklmnopqrstuvwxyzABCDEFGHIJKLMNOPQRSTUVWXYZ'.index(match) + 1\n",
    "            match_score += score\n",
    "            buffer = set()\n",
    "        elif buffer:\n",
    "            buffer = buffer.intersection(items)\n",
    "        else:\n",
    "            buffer = items\n",
    "\n",
    "# part two\n",
    "print(match_score)"
   ]
  }
 ],
 "metadata": {
  "kernelspec": {
   "display_name": "Python 3.9.9 ('venv': venv)",
   "language": "python",
   "name": "python3"
  },
  "language_info": {
   "codemirror_mode": {
    "name": "ipython",
    "version": 3
   },
   "file_extension": ".py",
   "mimetype": "text/x-python",
   "name": "python",
   "nbconvert_exporter": "python",
   "pygments_lexer": "ipython3",
   "version": "3.9.9"
  },
  "orig_nbformat": 4,
  "vscode": {
   "interpreter": {
    "hash": "8cc222d8d858779db65d898d98bd09c684444438acc87734a7eed878e153305d"
   }
  }
 },
 "nbformat": 4,
 "nbformat_minor": 2
}
