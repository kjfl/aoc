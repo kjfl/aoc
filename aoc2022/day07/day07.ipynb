{
 "cells": [
  {
   "cell_type": "code",
   "execution_count": 55,
   "metadata": {},
   "outputs": [],
   "source": [
    "def build_fs_tree():\n",
    "    def new_node(dirname):\n",
    "        return {\n",
    "            'dir': dirname,\n",
    "            'subdirs': {},\n",
    "            'total_size': 0,\n",
    "            'files': {},\n",
    "        }\n",
    "\n",
    "    fs = new_node('/')\n",
    "    cwd = []\n",
    "\n",
    "    with open('data.txt', 'r') as terminal_history:\n",
    "        for line in terminal_history:\n",
    "            line = line.strip()\n",
    "\n",
    "            if line.startswith('$ cd '):\n",
    "                arg = line[len('$ cd '):]\n",
    "                if arg == '/':\n",
    "                    cwd.clear()\n",
    "                    node = fs\n",
    "                elif arg == '..':\n",
    "                    cwd.pop()\n",
    "                    node = fs\n",
    "                    for f in cwd:\n",
    "                        node = node['subdirs'].setdefault(f, new_node(f))\n",
    "                else:\n",
    "                    cwd.append(arg)\n",
    "                    # node = node.setdefault(arg, {})\n",
    "                    node = node['subdirs'].setdefault(arg, new_node(arg))\n",
    "            elif line=='$ ls':\n",
    "                pass\n",
    "            elif line.startswith('dir '):\n",
    "                arg = line[len('dir '):]\n",
    "                node['subdirs'].setdefault(arg, new_node(arg))\n",
    "            else:\n",
    "                [size, filename] = line.split(' ')\n",
    "                node['files'].setdefault(filename, size)\n",
    "\n",
    "                ancestor = fs\n",
    "                ancestor['total_size'] += int(size)\n",
    "                for f in cwd:\n",
    "                    ancestor = ancestor['subdirs'][f]\n",
    "                    ancestor['total_size'] += int(size)\n",
    "    return fs\n",
    "\n",
    "fs = build_fs_tree()"
   ]
  },
  {
   "cell_type": "code",
   "execution_count": 56,
   "metadata": {},
   "outputs": [
    {
     "name": "stdout",
     "output_type": "stream",
     "text": [
      "1543140\n"
     ]
    }
   ],
   "source": [
    "# part one\n",
    "\n",
    "# To begin, find all of the directories with a total size of at most 100000, then calculate the sum of their total sizes. In the example above, these directories are a and e; the sum of their total sizes is 95437 (94853 + 584). (As in this example, this process can count files more than once!)\n",
    "# Find all of the directories with a total size of at most 100000. What is the sum of the total sizes of those directories?\n",
    "\n",
    "MAX_SIZE_THRESHOLD = 100000\n",
    "total_size_below_threshold = 0\n",
    "\n",
    "def count_sizes_below_threshold(node):\n",
    "    if node['total_size'] < MAX_SIZE_THRESHOLD:\n",
    "        return node['total_size'] + sum(count_sizes_below_threshold(x) for x in node['subdirs'].values())\n",
    "    else:\n",
    "        return sum(count_sizes_below_threshold(x) for x in node['subdirs'].values())\n",
    "print(count_sizes_below_threshold(fs))  # assume `/` is above cutoff\n",
    "# 1543140"
   ]
  },
  {
   "cell_type": "code",
   "execution_count": 86,
   "metadata": {},
   "outputs": [
    {
     "name": "stdout",
     "output_type": "stream",
     "text": [
      "target: 1111105\n",
      "found: 1117448\n"
     ]
    }
   ],
   "source": [
    "# part two\n",
    "\n",
    "# The total disk space available to the filesystem is 70000000. To run the update, you need unused space of at least 30000000. You need to find a directory you can delete that will free up enough space to run the update.\n",
    "# Find the smallest directory that, if deleted, would free up enough space on the filesystem to run the update. What is the total size of that directory?\n",
    "\n",
    "TOTAL_DISK_SPACE = 70000000\n",
    "MIN_FREE_SPACE = 30000000\n",
    "\n",
    "current_free_space = TOTAL_DISK_SPACE - fs['total_size']\n",
    "target_dir_size = MIN_FREE_SPACE - current_free_space\n",
    "\n",
    "print(f'target: {target_dir_size}')\n",
    "\n",
    "def min_size_above_threshold(node, threshold):\n",
    "    if node['total_size'] > threshold:\n",
    "        local_min = node['total_size']\n",
    "        for child_min in (min_size_above_threshold(x, threshold) for x in node['subdirs'].values()):\n",
    "            if child_min:\n",
    "                local_min = min(local_min, child_min)\n",
    "        return local_min\n",
    "\n",
    "print(f'found: {min_size_above_threshold(fs, target_dir_size)}')  # skip `/`\n",
    "# target: 1111105\n",
    "# found: 1117448"
   ]
  }
 ],
 "metadata": {
  "kernelspec": {
   "display_name": "Python 3.9.0 64-bit ('3.9.0')",
   "language": "python",
   "name": "python3"
  },
  "language_info": {
   "codemirror_mode": {
    "name": "ipython",
    "version": 3
   },
   "file_extension": ".py",
   "mimetype": "text/x-python",
   "name": "python",
   "nbconvert_exporter": "python",
   "pygments_lexer": "ipython3",
   "version": "3.9.0"
  },
  "orig_nbformat": 4,
  "vscode": {
   "interpreter": {
    "hash": "4c4d9f647a07fc485090d886de5b6a0af92a6b15ff52504bfeaf80081d979424"
   }
  }
 },
 "nbformat": 4,
 "nbformat_minor": 2
}
